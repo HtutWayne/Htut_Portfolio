{
 "cells": [
  {
   "cell_type": "markdown",
   "id": "9c84d948-22f7-478b-9d08-03435a8c4aab",
   "metadata": {},
   "source": [
    "The Problem Statement And Our Programme's Solution\n",
    "\n",
    "The Problem Statement: The problem with many people’s financial problem is that they cannot manage their expenses. Not only they cannot manage, but also, they cannot track or analyze how much they are spending on what area on both daily and monthly basic. It is also very time and energy consuming to write down each expense throughout the day and calculate their total spending amount timely based on their respective spending topics as day goes by, for days and months. Many people simply cannot follow this patter as it needs their attention of detail levels. These emotions, energy and time cost more than their actual spent money. So, they simply skipped tracking their expenses and never tracked them anymore. And they can never know how much they spent throughout the day and month and can never know how much they can still spend or are spending in the whole the day or month. They just cannot manage their expenses.\n",
    "\n",
    "Our Solution: Thus, we are here to help with our expense tracking programme, called “the Expense Tracker.” What we are going to solve is we note down your detail expenses with specific area of categories you have spent with specific amount on the specific day. We also show you the cumulative combined amount of how much you have spent throughout the day both in terms of categories and total amount for daily view and for monthly view, how much you have spent throughout the month with specific days you spent your money for. All you need to do is simply choose the category of choice and type the amount you have spent on the specific day. The rest is all upon us.\n",
    "\n",
    "How to use: First you have 5 choices of Menu to choose from,\n",
    "\n",
    "Add New Expense\n",
    "View Daily Expenses\n",
    "View Monthly Expenses\n",
    "Delete Expense\n",
    "Exit\n",
    "For each option, you have to type number and continue with exact instructions for each stage. If you inputted wrong value, you will be redirected to the previous page which request you to input the exact values as per instructions. You can simply exist the whole programme by typing 5 in the main menu pane."
   ]
  },
  {
   "cell_type": "code",
   "execution_count": 2,
   "id": "dd55115b-07ce-41f7-938d-acec6bd2f887",
   "metadata": {},
   "outputs": [
    {
     "name": "stdout",
     "output_type": "stream",
     "text": [
      "\n",
      "--- Expense Tracker Menu ---\n",
      "1. Add New Expense\n",
      "2. View Daily Expenses\n",
      "3. View Monthly Expenses\n",
      "4. Delete Expense\n",
      "5. Exit\n",
      "----------------------------\n"
     ]
    },
    {
     "name": "stdin",
     "output_type": "stream",
     "text": [
      "Enter your choice (1-5):  4\n"
     ]
    },
    {
     "name": "stdout",
     "output_type": "stream",
     "text": [
      "\n",
      "--- Delete Expense ---\n",
      "No expenses to delete.\n",
      "\n",
      "--- Expense Tracker Menu ---\n",
      "1. Add New Expense\n",
      "2. View Daily Expenses\n",
      "3. View Monthly Expenses\n",
      "4. Delete Expense\n",
      "5. Exit\n",
      "----------------------------\n"
     ]
    },
    {
     "name": "stdin",
     "output_type": "stream",
     "text": [
      "Enter your choice (1-5):  3\n"
     ]
    },
    {
     "name": "stdout",
     "output_type": "stream",
     "text": [
      "\n",
      "--- View Monthly Expenses ---\n"
     ]
    },
    {
     "name": "stdin",
     "output_type": "stream",
     "text": [
      "Enter month (MM):  3\n",
      "Enter year (YYYY):  1333\n"
     ]
    },
    {
     "name": "stdout",
     "output_type": "stream",
     "text": [
      "Invalid month or year.\n",
      "\n",
      "--- Expense Tracker Menu ---\n",
      "1. Add New Expense\n",
      "2. View Daily Expenses\n",
      "3. View Monthly Expenses\n",
      "4. Delete Expense\n",
      "5. Exit\n",
      "----------------------------\n"
     ]
    },
    {
     "name": "stdin",
     "output_type": "stream",
     "text": [
      "Enter your choice (1-5):  2\n"
     ]
    },
    {
     "name": "stdout",
     "output_type": "stream",
     "text": [
      "\n",
      "--- View Daily Expenses ---\n"
     ]
    },
    {
     "name": "stdin",
     "output_type": "stream",
     "text": [
      "Enter date to view (DD/MM/YYYY):  01/22/3933\n"
     ]
    },
    {
     "name": "stdout",
     "output_type": "stream",
     "text": [
      "Invalid date format. Please use DD/MM/YYYY.\n",
      "\n",
      "--- Expense Tracker Menu ---\n",
      "1. Add New Expense\n",
      "2. View Daily Expenses\n",
      "3. View Monthly Expenses\n",
      "4. Delete Expense\n",
      "5. Exit\n",
      "----------------------------\n"
     ]
    },
    {
     "name": "stdin",
     "output_type": "stream",
     "text": [
      "Enter your choice (1-5):  17.7.2925\n"
     ]
    },
    {
     "name": "stdout",
     "output_type": "stream",
     "text": [
      "Invalid choice. Please enter a number between 1 and 5.\n",
      "\n",
      "--- Expense Tracker Menu ---\n",
      "1. Add New Expense\n",
      "2. View Daily Expenses\n",
      "3. View Monthly Expenses\n",
      "4. Delete Expense\n",
      "5. Exit\n",
      "----------------------------\n"
     ]
    },
    {
     "name": "stdin",
     "output_type": "stream",
     "text": [
      "Enter your choice (1-5):  1\n"
     ]
    },
    {
     "name": "stdout",
     "output_type": "stream",
     "text": [
      "\n",
      "--- Add New Expense ---\n"
     ]
    },
    {
     "name": "stdin",
     "output_type": "stream",
     "text": [
      "Enter date (DD/MM/YYYY):  14/7/2025\n"
     ]
    },
    {
     "name": "stdout",
     "output_type": "stream",
     "text": [
      "\n",
      "Available Categories:\n",
      "  1. Food\n",
      "  2. Drink\n",
      "  3. Grocery\n",
      "  4. Beauty And Medicine\n",
      "  5. Bill\n",
      "  6. Utilities\n",
      "  7. Transportation\n",
      "  8. Social\n",
      "  9. Health\n",
      "  10. Clothes\n",
      "  11. Unexpected\n",
      "  12. Emergency Costs\n",
      "  13. Rent\n",
      "  14. Others\n"
     ]
    },
    {
     "name": "stdin",
     "output_type": "stream",
     "text": [
      "Enter category name or number:  3\n",
      "Enter amount spent: $ 3000\n",
      "Enter a brief description (optional):  Veggies and Bread\n"
     ]
    },
    {
     "name": "stdout",
     "output_type": "stream",
     "text": [
      "Expense added successfully!\n",
      "\n",
      "--- Expense Tracker Menu ---\n",
      "1. Add New Expense\n",
      "2. View Daily Expenses\n",
      "3. View Monthly Expenses\n",
      "4. Delete Expense\n",
      "5. Exit\n",
      "----------------------------\n"
     ]
    },
    {
     "name": "stdin",
     "output_type": "stream",
     "text": [
      "Enter your choice (1-5):  1\n"
     ]
    },
    {
     "name": "stdout",
     "output_type": "stream",
     "text": [
      "\n",
      "--- Add New Expense ---\n"
     ]
    },
    {
     "name": "stdin",
     "output_type": "stream",
     "text": [
      "Enter date (DD/MM/YYYY):  15/7/2025\n"
     ]
    },
    {
     "name": "stdout",
     "output_type": "stream",
     "text": [
      "\n",
      "Available Categories:\n",
      "  1. Food\n",
      "  2. Drink\n",
      "  3. Grocery\n",
      "  4. Beauty And Medicine\n",
      "  5. Bill\n",
      "  6. Utilities\n",
      "  7. Transportation\n",
      "  8. Social\n",
      "  9. Health\n",
      "  10. Clothes\n",
      "  11. Unexpected\n",
      "  12. Emergency Costs\n",
      "  13. Rent\n",
      "  14. Others\n"
     ]
    },
    {
     "name": "stdin",
     "output_type": "stream",
     "text": [
      "Enter category name or number:  1\n",
      "Enter amount spent: $ 2500\n",
      "Enter a brief description (optional):  \n"
     ]
    },
    {
     "name": "stdout",
     "output_type": "stream",
     "text": [
      "Expense added successfully!\n",
      "\n",
      "--- Expense Tracker Menu ---\n",
      "1. Add New Expense\n",
      "2. View Daily Expenses\n",
      "3. View Monthly Expenses\n",
      "4. Delete Expense\n",
      "5. Exit\n",
      "----------------------------\n"
     ]
    },
    {
     "name": "stdin",
     "output_type": "stream",
     "text": [
      "Enter your choice (1-5):  1\n"
     ]
    },
    {
     "name": "stdout",
     "output_type": "stream",
     "text": [
      "\n",
      "--- Add New Expense ---\n"
     ]
    },
    {
     "name": "stdin",
     "output_type": "stream",
     "text": [
      "Enter date (DD/MM/YYYY):  1\n"
     ]
    },
    {
     "name": "stdout",
     "output_type": "stream",
     "text": [
      "Invalid date format. Please use DD/MM/YYYY.\n",
      "\n",
      "--- Expense Tracker Menu ---\n",
      "1. Add New Expense\n",
      "2. View Daily Expenses\n",
      "3. View Monthly Expenses\n",
      "4. Delete Expense\n",
      "5. Exit\n",
      "----------------------------\n"
     ]
    },
    {
     "name": "stdin",
     "output_type": "stream",
     "text": [
      "Enter your choice (1-5):  1\n"
     ]
    },
    {
     "name": "stdout",
     "output_type": "stream",
     "text": [
      "\n",
      "--- Add New Expense ---\n"
     ]
    },
    {
     "name": "stdin",
     "output_type": "stream",
     "text": [
      "Enter date (DD/MM/YYYY):  15/7/2025\n"
     ]
    },
    {
     "name": "stdout",
     "output_type": "stream",
     "text": [
      "\n",
      "Available Categories:\n",
      "  1. Food\n",
      "  2. Drink\n",
      "  3. Grocery\n",
      "  4. Beauty And Medicine\n",
      "  5. Bill\n",
      "  6. Utilities\n",
      "  7. Transportation\n",
      "  8. Social\n",
      "  9. Health\n",
      "  10. Clothes\n",
      "  11. Unexpected\n",
      "  12. Emergency Costs\n",
      "  13. Rent\n",
      "  14. Others\n"
     ]
    },
    {
     "name": "stdin",
     "output_type": "stream",
     "text": [
      "Enter category name or number:  1\n",
      "Enter amount spent: $ 2500\n",
      "Enter a brief description (optional):  lunch\n"
     ]
    },
    {
     "name": "stdout",
     "output_type": "stream",
     "text": [
      "Expense added successfully!\n",
      "\n",
      "--- Expense Tracker Menu ---\n",
      "1. Add New Expense\n",
      "2. View Daily Expenses\n",
      "3. View Monthly Expenses\n",
      "4. Delete Expense\n",
      "5. Exit\n",
      "----------------------------\n"
     ]
    },
    {
     "name": "stdin",
     "output_type": "stream",
     "text": [
      "Enter your choice (1-5):  3\n"
     ]
    },
    {
     "name": "stdout",
     "output_type": "stream",
     "text": [
      "\n",
      "--- View Monthly Expenses ---\n"
     ]
    },
    {
     "name": "stdin",
     "output_type": "stream",
     "text": [
      "Enter month (MM):  07\n",
      "Enter year (YYYY):  2025\n"
     ]
    },
    {
     "name": "stdout",
     "output_type": "stream",
     "text": [
      "\n",
      "Expenses for 07/2025:\n",
      "Date: 14/07/2025, Category: Grocery, Amount: $3000.00, Description: Veggies and Bread\n",
      "Date: 15/07/2025, Category: Food, Amount: $2500.00, Description: N/A\n",
      "Date: 15/07/2025, Category: Food, Amount: $2500.00, Description: lunch\n",
      "------------------------------\n",
      "Summary for this month:\n",
      "  Grocery: $3000.00\n",
      "  Food: $5000.00\n",
      "  Total Monthly Expense: $8000.00\n",
      "------------------------------\n",
      "\n",
      "--- Expense Tracker Menu ---\n",
      "1. Add New Expense\n",
      "2. View Daily Expenses\n",
      "3. View Monthly Expenses\n",
      "4. Delete Expense\n",
      "5. Exit\n",
      "----------------------------\n"
     ]
    },
    {
     "name": "stdin",
     "output_type": "stream",
     "text": [
      "Enter your choice (1-5):  4\n"
     ]
    },
    {
     "name": "stdout",
     "output_type": "stream",
     "text": [
      "\n",
      "--- Delete Expense ---\n"
     ]
    },
    {
     "name": "stdin",
     "output_type": "stream",
     "text": [
      "Enter date of expense to delete (DD/MM/YYYY):  15/7/2025\n",
      "Enter category of expense to delete:  Food\n",
      "Enter amount of expense to delete: $ 2500\n"
     ]
    },
    {
     "name": "stdout",
     "output_type": "stream",
     "text": [
      "Expense deleted successfully!\n",
      "\n",
      "--- Expense Tracker Menu ---\n",
      "1. Add New Expense\n",
      "2. View Daily Expenses\n",
      "3. View Monthly Expenses\n",
      "4. Delete Expense\n",
      "5. Exit\n",
      "----------------------------\n"
     ]
    },
    {
     "name": "stdin",
     "output_type": "stream",
     "text": [
      "Enter your choice (1-5):  3\n"
     ]
    },
    {
     "name": "stdout",
     "output_type": "stream",
     "text": [
      "\n",
      "--- View Monthly Expenses ---\n"
     ]
    },
    {
     "name": "stdin",
     "output_type": "stream",
     "text": [
      "Enter month (MM):  07\n",
      "Enter year (YYYY):  2025\n"
     ]
    },
    {
     "name": "stdout",
     "output_type": "stream",
     "text": [
      "\n",
      "Expenses for 07/2025:\n",
      "Date: 14/07/2025, Category: Grocery, Amount: $3000.00, Description: Veggies and Bread\n",
      "Date: 15/07/2025, Category: Food, Amount: $2500.00, Description: lunch\n",
      "------------------------------\n",
      "Summary for this month:\n",
      "  Grocery: $3000.00\n",
      "  Food: $2500.00\n",
      "  Total Monthly Expense: $5500.00\n",
      "------------------------------\n",
      "\n",
      "--- Expense Tracker Menu ---\n",
      "1. Add New Expense\n",
      "2. View Daily Expenses\n",
      "3. View Monthly Expenses\n",
      "4. Delete Expense\n",
      "5. Exit\n",
      "----------------------------\n"
     ]
    },
    {
     "name": "stdin",
     "output_type": "stream",
     "text": [
      "Enter your choice (1-5):  5\n"
     ]
    },
    {
     "name": "stdout",
     "output_type": "stream",
     "text": [
      "Exiting Expense Tracker. Thanks for using. Goodbye!\n"
     ]
    }
   ],
   "source": [
    "import datetime\n",
    "import time\n",
    "\n",
    "# ---------------- Step-1, Data Structure: Node Class for LinkedList ----------------\n",
    "class Node:\n",
    "    def __init__ (self, data):\n",
    "        self.data = data\n",
    "        self.next = None # refering to the next Node\n",
    "\n",
    "\n",
    "# ---------------- Step-2, Data Structure: LinkedList Class -----------------------------\n",
    "\n",
    "class LinkedList:\n",
    "\n",
    "    def __init__(self):\n",
    "        self.head = None\n",
    "\n",
    "    def append(self, data):\n",
    "        new_node = Node(data)\n",
    "        if self.head is None:\n",
    "            self.head = new_node\n",
    "            return\n",
    "\n",
    "        last_node = self.head\n",
    "        while last_node.next:\n",
    "            last_node = last_node.next\n",
    "        last_node.next = new_node # making new nodes from last node's next\n",
    "\n",
    "    def delete_node(self, expense_to_delete): # delete node part\n",
    "\n",
    "        current_node = self.head\n",
    "        previous_node = None\n",
    "\n",
    "        # Traverse the list to find the node to delete\n",
    "        # Delete Node from Expense object by looking exact date, category, and amount\n",
    "        while current_node and not (\n",
    "            current_node.data.date == expense_to_delete.date and\n",
    "            current_node.data.category.lower() == expense_to_delete.category.lower() and # in case Case-insensitive for category\n",
    "            current_node.data.amount == expense_to_delete.amount\n",
    "        ):\n",
    "            previous_node = current_node\n",
    "            current_node = current_node.next # repositioned the nodes after deleting\n",
    "\n",
    "        # If the expense was not found\n",
    "        if current_node is None:\n",
    "            return False # Expense not found\n",
    "\n",
    "        # If the head node is the one to be deleted\n",
    "        if previous_node is None:\n",
    "            self.head = current_node.next\n",
    "        else:\n",
    "            # Bypass the current_node\n",
    "            previous_node.next = current_node.next\n",
    "        return True # Expense successfully deleted\n",
    "\n",
    "    def is_empty(self):\n",
    "        \"\"\"\n",
    "        Checks if the linked list is empty.\n",
    "        \"\"\"\n",
    "        return self.head is None\n",
    "\n",
    "# ---------------- Step 3, Data Structure: Stack Class ------------------------------\n",
    "\n",
    "class Stack: # Last-In, First-Out (LIFO)\n",
    "\n",
    "    def __init__(self):\n",
    "        self.items = []\n",
    "\n",
    "    def push(self, item):        # Adding item to the top\n",
    "        self.items.append(item)\n",
    "\n",
    "    def pop(self):               # Removes item from the top, last in is first out one\n",
    "        if not self.is_empty():\n",
    "            return self.items.pop()\n",
    "        return None\n",
    "\n",
    "    def is_empty(self):\n",
    "        return len(self.items) == 0\n",
    "\n",
    "    def peek(self): # Just looking at the top of stack without any action\n",
    "        if not self.is_empty():\n",
    "            return self.items[-1]\n",
    "        return None\n",
    "\n",
    "# ---------------- Step-4, Expense Class -----------------------------\n",
    "class Expense:\n",
    "    \"\"\"\n",
    "    Whenever you made an expense, it represents with date, category, amount, and description and total amount for that day combined by category\n",
    "    \"\"\"\n",
    "    def __init__(self, date: datetime.date, category: str, amount: float, description: str = None):\n",
    "        if not isinstance(date, datetime.date):\n",
    "            raise ValueError(\"Date must be a datetime.date object.\") # error handling\n",
    "        if not isinstance(category, str) or not category:\n",
    "            raise ValueError(\"Category must be a non-empty string.\") # error handling\n",
    "        if not isinstance(amount, (int, float)) or amount <= 0:\n",
    "            raise ValueError(\"Amount must be a positive number.\") # Eror handling\n",
    "\n",
    "        self.date = date\n",
    "        self.category = category.lower() # Stored category in lowercase for consistency\n",
    "        self.amount = float(amount)\n",
    "        self.description = description if description else \"N/A\"\n",
    "\n",
    "    def __str__(self):\n",
    "        \"\"\"\n",
    "        Returns a total text of the whole Expense\n",
    "        \"\"\"\n",
    "        return (f\"Date: {self.date.strftime('%d/%m/%Y')}, \"\n",
    "                f\"Category: {self.category.capitalize()}, \"\n",
    "                f\"Amount: ${self.amount:.2f}, \"\n",
    "                f\"Description: {self.description}\"\n",
    "                )\n",
    "\n",
    "\n",
    "# ---------------- Step  5, Tracker Class ------------------------------------\n",
    "class Tracker:\n",
    "    def __init__(self):\n",
    "        self.expenses = LinkedList()\n",
    "        # Adjusted valid_categories to be consistent with previous discussions (all lowercase)\n",
    "        self.valid_categories = [\n",
    "            \"food\", \"drink\", \"grocery\", \"beauty and medicine\", \"bill\",\n",
    "            \"utilities\", \"transportation\", \"social\", \"health\", \"clothes\",\n",
    "            \"unexpected\", \"emergency costs\", \"rent\", \"others\"\n",
    "        ]\n",
    "\n",
    "        self.daily_expenses_stack = Stack()\n",
    "\n",
    "    def _get_category_input(self):\n",
    "        \"\"\"\n",
    "        This is helper function to handle category display and user input validation.\n",
    "        Returns the valid category (lowercase string) or None if input is invalid.\n",
    "        \"\"\"\n",
    "        print(\"\\nAvailable Categories:\")\n",
    "        # Display categories formatted nicely\n",
    "        for i, cat in enumerate(self.valid_categories):\n",
    "            print(f\"  {i+1}. {cat.replace('_', ' ').title()}\") # .title() capitalizes each word, .replace('_', ' ') handles compound names\n",
    "\n",
    "        while True:\n",
    "            category_input = input(\"Enter category name or number: \").strip()\n",
    "\n",
    "            # Try to convert to an integer (for category number)\n",
    "            try:\n",
    "                idx = int(category_input) - 1 # Adjust for 0-based index\n",
    "                if 0 <= idx < len(self.valid_categories):\n",
    "                    return self.valid_categories[idx] # Return valid category (lowercase)\n",
    "                else:\n",
    "                    print(\"Invalid category number. Please try again.\") # Eror handling with a request, print statement\n",
    "            except ValueError:\n",
    "                # If not a number, treat as a category name\n",
    "                # Check against lowercase valid categories\n",
    "                if category_input.lower() in self.valid_categories:\n",
    "                    return category_input.lower() # Return valid category (lowercase)\n",
    "                else:\n",
    "                    print(\"Invalid category name. Please try again.\") # Eror handling with a request, print statement\n",
    "\n",
    "    def add_expense(self):\n",
    "        \"\"\"\n",
    "        Prompts the user for expense details and adds a new Expense to the tracker.\n",
    "        Includes input validation.\n",
    "        \"\"\"\n",
    "        print(\"\\n--- Add New Expense ---\")\n",
    "        date_str = input(\"Enter date (DD/MM/YYYY): \")\n",
    "\n",
    "        try:\n",
    "            # Convert date string to datetime.date format\n",
    "            expense_date = datetime.datetime.strptime(date_str, \"%d/%m/%Y\").date()\n",
    "        except ValueError:\n",
    "            print(\"Invalid date format. Please use DD/MM/YYYY.\") # Eror handling with a request, print statement\n",
    "            return\n",
    "\n",
    "        # Use the simplified category input helper\n",
    "        category = self._get_category_input()\n",
    "        if category is None: # If the helper function returned None, input was invalid\n",
    "            return # Exit add_expense\n",
    "\n",
    "        # you are resuming and started to fill amount here because category input was right\n",
    "        # no need to write but just choose for categories\n",
    "        try:\n",
    "            amount = float(input(\"Enter amount spent: $\"))\n",
    "            if amount <= 0:\n",
    "                print(\"Amount must be a positive number.\")\n",
    "                return\n",
    "        except ValueError:\n",
    "            print(\"Invalid amount. Please enter a number.\")\n",
    "            return\n",
    "\n",
    "        description = input(\"Enter a brief description (optional): \")\n",
    "\n",
    "        try:\n",
    "            new_expense = Expense(expense_date, category, amount, description)\n",
    "            self.expenses.append(new_expense)\n",
    "            print(\"Expense added successfully!\")\n",
    "        except ValueError as e:\n",
    "            print(f\"Error adding expense: {e}\")\n",
    "\n",
    "    def view_daily_expenses(self):\n",
    "        \"\"\"\n",
    "        Prompts for a date and displays all expenses for that day,\n",
    "        ordered from most recent added to oldest added for that day.\n",
    "        Also calculates and displays daily total and category totals.\n",
    "        \"\"\"\n",
    "        print(\"\\n--- View Daily Expenses ---\")\n",
    "        date_str = input(\"Enter date to view (DD/MM/YYYY): \")\n",
    "\n",
    "        try:\n",
    "            target_date = datetime.datetime.strptime(date_str, \"%d/%m/%Y\").date()\n",
    "        except ValueError:\n",
    "            print(\"Invalid date format. Please use DD/MM/YYYY.\")\n",
    "            return\n",
    "\n",
    "        found_expenses = []\n",
    "        category_totals = {} # Initialize dictionary for category totals\n",
    "        overall_daily_total = 0.0 # Initialize overall daily total\n",
    "\n",
    "        current_node = self.expenses.head\n",
    "        while current_node:\n",
    "            # Access the Expense object directly from current_node.data\n",
    "            expense = current_node.data\n",
    "            if expense.date == target_date:\n",
    "                found_expenses.append(expense)\n",
    "\n",
    "                # Calculating total amount for each category\n",
    "                category_totals[expense.category] = category_totals.get(expense.category, 0.0) + expense.amount\n",
    "\n",
    "                # Calculating total amount for daily\n",
    "                overall_daily_total += expense.amount\n",
    "            current_node = current_node.next\n",
    "\n",
    "\n",
    "        if not found_expenses:\n",
    "            print(f\"No expenses found for {date_str}.\")\n",
    "        else:\n",
    "            print(f\"\\nExpenses for {date_str}:\")\n",
    "            # Push found expenses onto the stack to display LIFO (most recent for that day first)\n",
    "            while not self.daily_expenses_stack.is_empty(): # Clear stack first to avoid old data\n",
    "                self.daily_expenses_stack.pop()\n",
    "                # Append to stack, then pop to display LIFO order\n",
    "            for expense_item in found_expenses: # Renamed variable to avoid conflict\n",
    "                self.daily_expenses_stack.push(expense_item)\n",
    "\n",
    "            while not self.daily_expenses_stack.is_empty():\n",
    "                expense_to_display = self.daily_expenses_stack.pop()\n",
    "                print(expense_to_display)\n",
    "\n",
    "            print(\"---------------------------------------------------\")\n",
    "            print(\"Summary for this day:\")\n",
    "            for category, total in category_totals.items():\n",
    "                print(f\"  {category.capitalize()}: ${total:.2f}\")\n",
    "            print(f\"  Total Daily Expense: ${overall_daily_total:.2f}\")\n",
    "            print(\"----------------------------------------------------\")\n",
    "\n",
    "    def view_monthly_expenses(self):\n",
    "        \"\"\"\n",
    "        Prompts for a month displays a summary of all expenses and categories for that month.\n",
    "        \"\"\"\n",
    "        print(\"\\n--- View Monthly Expenses ---\")\n",
    "        month_str = input(\"Enter month (MM): \")\n",
    "        year_str = input(\"Enter year (YYYY): \")\n",
    "\n",
    "        try:\n",
    "            month = int(month_str)\n",
    "            year = int(year_str)\n",
    "            if not (1 <= month <= 12) or not (2025 <= year <= 9999): # Basic range check\n",
    "                print(\"Invalid month or year.\")\n",
    "                return\n",
    "        except ValueError:\n",
    "            print(\"Invalid month or year. Please enter numbers.\")\n",
    "            return\n",
    "\n",
    "        total_monthly_expense = 0.0\n",
    "        found_expenses_count = 0\n",
    "        category_monthly_totals = {} # Initialize dictionary for monthly category totals\n",
    "\n",
    "        print(f\"\\nExpenses for {month_str}/{year_str}:\")\n",
    "        current_node = self.expenses.head\n",
    "        while current_node:\n",
    "            expense_date = current_node.data.date\n",
    "            expense = current_node.data # Get the expense object\n",
    "            if expense_date.month == month and expense_date.year == year:\n",
    "                print(expense)\n",
    "                total_monthly_expense += expense.amount\n",
    "                found_expenses_count += 1\n",
    "                # Calculate monthly category totals\n",
    "                category_monthly_totals[expense.category] = category_monthly_totals.get(expense.category, 0.0) + expense.amount\n",
    "            current_node = current_node.next\n",
    "\n",
    "        if found_expenses_count == 0:\n",
    "            print(f\"No expenses found for {month_str}/{year_str}.\")\n",
    "        else:\n",
    "            print(\"-\" * 30)\n",
    "            print(\"Summary for this month:\")\n",
    "            for category, total in category_monthly_totals.items():\n",
    "                print(f\"  {category.capitalize()}: ${total:.2f}\")\n",
    "            print(f\"  Total Monthly Expense: ${total_monthly_expense:.2f}\")\n",
    "            print(\"-\" * 30)\n",
    "\n",
    "\n",
    "    def delete_expense(self):\n",
    "\n",
    "        print(\"\\n--- Delete Expense ---\")\n",
    "        if self.expenses.is_empty():\n",
    "            print(\"No expenses to delete.\")\n",
    "            return\n",
    "\n",
    "        date_str = input(\"Enter date of expense to delete (DD/MM/YYYY): \")\n",
    "        try:\n",
    "            target_date = datetime.datetime.strptime(date_str, \"%d/%m/%Y\").date()\n",
    "        except ValueError:\n",
    "            print(\"Invalid date format. Please use DD/MM/YYYY.\")\n",
    "            return\n",
    "\n",
    "        category_input = input(\"Enter category of expense to delete: \").strip()\n",
    "        # Check against valid_categories using .lower() for consistency\n",
    "        if category_input.lower() not in self.valid_categories:\n",
    "            print(\"Invalid category. Expense not found.\")\n",
    "            return\n",
    "\n",
    "        try:\n",
    "            amount = float(input(\"Enter amount of expense to delete: $\"))\n",
    "            if amount <= 0:\n",
    "                print(\"Amount must be a positive number.\")\n",
    "                return\n",
    "        except ValueError:\n",
    "            print(\"Invalid amount. Please enter a number.\")\n",
    "            return\n",
    "\n",
    "        # Create a temporary Expense object to use for comparison in delete_node\n",
    "        # Note: description is not used for deletion match, so we pass a placeholder.\n",
    "        expense_to_match = Expense(target_date, category_input.lower(), amount, \"placeholder\")\n",
    "\n",
    "        if self.expenses.delete_node(expense_to_match):\n",
    "            print(\"Expense deleted successfully!\")\n",
    "        else:\n",
    "            print(\"Expense not found with Your Specific Details.\")\n",
    "\n",
    "\n",
    "\n",
    "\n",
    "# ---------------------- Main Application Functions ----------------------\n",
    "def display_menu():\n",
    "    \"\"\"\n",
    "    Displays the main menu options to the user.\n",
    "    \"\"\"\n",
    "    print(\"\\n--- Expense Tracker Menu ---\")\n",
    "    print(\"1. Add New Expense\")\n",
    "    print(\"2. View Daily Expenses\")\n",
    "    print(\"3. View Monthly Expenses\")\n",
    "    print(\"4. Delete Expense\")\n",
    "    print(\"5. Exit\")\n",
    "    print(\"----------------------------\")\n",
    "\n",
    "def run_tracker():\n",
    "    \"\"\"\n",
    "    The main function to run the Expense Tracker application.\n",
    "    \"\"\"\n",
    "    tracker = Tracker()\n",
    "\n",
    "    while True:\n",
    "        display_menu()\n",
    "        choice = input(\"Enter your choice (1-5): \") # Now it's 1-5\n",
    "\n",
    "        if choice == '1':\n",
    "            tracker.add_expense()\n",
    "        elif choice == '2':\n",
    "            tracker.view_daily_expenses()\n",
    "        elif choice == '3':\n",
    "            tracker.view_monthly_expenses()\n",
    "        elif choice == '4': # Choice 4 is now Delete Expense\n",
    "            tracker.delete_expense()\n",
    "        elif choice == '5': # Choice 5 is now Exit\n",
    "            print(\"Exiting Expense Tracker. Thanks for using. Goodbye!\")\n",
    "            break\n",
    "        else:\n",
    "            print(\"Invalid choice. Please enter a number between 1 and 5.\")\n",
    "\n",
    "# Run the application\n",
    "if __name__ == \"__main__\":\n",
    "    run_tracker()\n",
    "     "
   ]
  }
 ],
 "metadata": {
  "kernelspec": {
   "display_name": "Python 3 (ipykernel)",
   "language": "python",
   "name": "python3"
  },
  "language_info": {
   "codemirror_mode": {
    "name": "ipython",
    "version": 3
   },
   "file_extension": ".py",
   "mimetype": "text/x-python",
   "name": "python",
   "nbconvert_exporter": "python",
   "pygments_lexer": "ipython3",
   "version": "3.11.5"
  }
 },
 "nbformat": 4,
 "nbformat_minor": 5
}
